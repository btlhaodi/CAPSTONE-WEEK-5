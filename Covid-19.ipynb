{
 "cells": [
  {
   "cell_type": "markdown",
   "metadata": {},
   "source": [
    "# Analyzing the COVID-19"
   ]
  },
  {
   "cell_type": "markdown",
   "metadata": {},
   "source": [
    "## COVID-19 ANALYSIS"
   ]
  },
  {
   "cell_type": "markdown",
   "metadata": {},
   "source": [
    "## TABLE OF CONTENTS"
   ]
  },
  {
   "cell_type": "markdown",
   "metadata": {},
   "source": [
    "* [Introduction](#Introduction)\n",
    "* [Problem definition](#Problem)\n",
    "* [Data source](#Data)\n",
    "* [Methodology](#Methodology)\n",
    "* [Analysis](#Analysis)\n",
    "* [Results](#Results)\n",
    "* [Conclusion](#Conclution) \n",
    "* [Data](#data)\n"
   ]
  },
  {
   "attachments": {},
   "cell_type": "markdown",
   "metadata": {},
   "source": [
    "## 1. Introduction #Introduction\n",
    "\n",
    "In December 2019 the first case of the COVID 19 was discovered in the city of Wuhan in China which is now known as the epicenter. The disease spread further to other countries around the world and currently 220 countries are affected by the virus. Data was collected from the website and used to analyze the spread of the virus. Head of states, Ministries of Health and Wellness and World Health Organization would be interested in the data collected and results. COVID-19 was chosen because it is a problem now. The Prime Minister of India wanted to know how India was doing with the COVID-19. This information will help determine what policies other countries have put in place to curb the spread of the virus. \n",
    "\n",
    "\n",
    "## 2. Problem definition\n",
    "\n",
    "There is a need to determine how certain countries are progressing in their fight toward the COVID-19. \n",
    " \n",
    "## 3. Data source\n",
    "\n",
    "The data was collected from the website and put in an csv file for ease of access. The data was initially collected from https://www.worldometers.info/coronavirus/\n",
    "The data composes of a list of countries affected by the virus and their statistics of new cases, total cases, new deaths and total number of deaths by date. \n",
    " \n",
    "## 4. Methodology\n",
    "\n",
    "Data cleaning: \n",
    "1. countries that have no reports of the COVID-19 were removed from the report. \n",
    "2. loop through the dataset to find contries with no deaths\n",
    "3. drop such count\n",
    "* As the data came with records by date, it was combined to give totals for each country. \n",
    "* Countries of interest were identified and analysed. \n",
    "* Statistical analysis methods such as bar charts were used to represent data and outcomes. \n",
    "\n",
    "## 7. Conclusion # Conclusion\n",
    "\n",
    "From the countries selected:\n",
    "Italy has more COVID-19 cases than the other two. It has more new cases emerging and deaths as well\n",
    "Spain has the least cases\n",
    "The total number of cases are increasing at an increasing rate. This means that there are more new cases  and the virus is spreading very fast.\n"
   ]
  },
  {
   "cell_type": "markdown",
   "metadata": {},
   "source": [
    "PROJECT CODE\n",
    "1. load data\n",
    "2. Cleaning data\n",
    "3. Explore data\n",
    "4. Clustering of neighbourhoods\n",
    "5. Visualise neighbourhoods"
   ]
  },
  {
   "cell_type": "code",
   "execution_count": 222,
   "metadata": {},
   "outputs": [
    {
     "name": "stdout",
     "output_type": "stream",
     "text": [
      "libraries imported\n"
     ]
    }
   ],
   "source": [
    "import pandas as pd\n",
    "import numpy as np\n",
    "import pandas as pd\n",
    "import matplotlib.pyplot as plt\n",
    "from IPython.display import display\n",
    "import datetime\n",
    "\n",
    "print('libraries imported')"
   ]
  },
  {
   "cell_type": "markdown",
   "metadata": {},
   "source": [
    "## Loading Data"
   ]
  },
  {
   "cell_type": "code",
   "execution_count": 223,
   "metadata": {},
   "outputs": [
    {
     "name": "stderr",
     "output_type": "stream",
     "text": [
      "C:\\Users\\Ona\\anaconda3\\lib\\site-packages\\ipykernel_launcher.py:2: FutureWarning: The pandas.datetime class is deprecated and will be removed from pandas in a future version. Import from datetime module instead.\n",
      "  \n"
     ]
    }
   ],
   "source": [
    "url='full_data.csv'\n",
    "dateparse = lambda x: pd.datetime.strptime(x, '%Y-%m-%d')\n",
    "\n",
    "cases = pd.read_csv(url, parse_dates=['date'], date_parser=dateparse)\n",
    "cases\n",
    "\n",
    "df = pd.read_csv(url)"
   ]
  },
  {
   "cell_type": "code",
   "execution_count": 224,
   "metadata": {},
   "outputs": [
    {
     "name": "stdout",
     "output_type": "stream",
     "text": [
      "RangeIndex(start=0, stop=2867, step=1)\n"
     ]
    }
   ],
   "source": [
    "print(cases.index)\n"
   ]
  },
  {
   "cell_type": "markdown",
   "metadata": {},
   "source": [
    "# CLEANING DATA\n"
   ]
  },
  {
   "cell_type": "code",
   "execution_count": 225,
   "metadata": {},
   "outputs": [
    {
     "data": {
      "text/plain": [
       "date            2020-03-17 00:00:00\n",
       "location                    Albania\n",
       "new_cases                         9\n",
       "new_deaths                        0\n",
       "total_cases                      51\n",
       "total_deaths                      1\n",
       "Name: 30, dtype: object"
      ]
     },
     "execution_count": 225,
     "metadata": {},
     "output_type": "execute_result"
    }
   ],
   "source": [
    "cases.iloc[30]"
   ]
  },
  {
   "cell_type": "code",
   "execution_count": 226,
   "metadata": {},
   "outputs": [
    {
     "data": {
      "text/html": [
       "<div>\n",
       "<style scoped>\n",
       "    .dataframe tbody tr th:only-of-type {\n",
       "        vertical-align: middle;\n",
       "    }\n",
       "\n",
       "    .dataframe tbody tr th {\n",
       "        vertical-align: top;\n",
       "    }\n",
       "\n",
       "    .dataframe thead th {\n",
       "        text-align: right;\n",
       "    }\n",
       "</style>\n",
       "<table border=\"1\" class=\"dataframe\">\n",
       "  <thead>\n",
       "    <tr style=\"text-align: right;\">\n",
       "      <th></th>\n",
       "      <th>new_cases</th>\n",
       "      <th>new_deaths</th>\n",
       "      <th>total_cases</th>\n",
       "      <th>total_deaths</th>\n",
       "    </tr>\n",
       "  </thead>\n",
       "  <tbody>\n",
       "    <tr>\n",
       "      <th>count</th>\n",
       "      <td>2707.000000</td>\n",
       "      <td>540.000000</td>\n",
       "      <td>2867.000000</td>\n",
       "      <td>587.000000</td>\n",
       "    </tr>\n",
       "    <tr>\n",
       "      <th>mean</th>\n",
       "      <td>131.927595</td>\n",
       "      <td>27.262963</td>\n",
       "      <td>2517.981863</td>\n",
       "      <td>404.933560</td>\n",
       "    </tr>\n",
       "    <tr>\n",
       "      <th>std</th>\n",
       "      <td>833.146654</td>\n",
       "      <td>78.823547</td>\n",
       "      <td>13805.255915</td>\n",
       "      <td>1020.459099</td>\n",
       "    </tr>\n",
       "    <tr>\n",
       "      <th>min</th>\n",
       "      <td>-10.000000</td>\n",
       "      <td>0.000000</td>\n",
       "      <td>1.000000</td>\n",
       "      <td>1.000000</td>\n",
       "    </tr>\n",
       "    <tr>\n",
       "      <th>25%</th>\n",
       "      <td>0.000000</td>\n",
       "      <td>0.000000</td>\n",
       "      <td>2.000000</td>\n",
       "      <td>1.000000</td>\n",
       "    </tr>\n",
       "    <tr>\n",
       "      <th>50%</th>\n",
       "      <td>0.000000</td>\n",
       "      <td>1.000000</td>\n",
       "      <td>9.000000</td>\n",
       "      <td>5.000000</td>\n",
       "    </tr>\n",
       "    <tr>\n",
       "      <th>75%</th>\n",
       "      <td>7.000000</td>\n",
       "      <td>15.000000</td>\n",
       "      <td>48.000000</td>\n",
       "      <td>60.500000</td>\n",
       "    </tr>\n",
       "    <tr>\n",
       "      <th>max</th>\n",
       "      <td>19572.000000</td>\n",
       "      <td>855.000000</td>\n",
       "      <td>179112.000000</td>\n",
       "      <td>7426.000000</td>\n",
       "    </tr>\n",
       "  </tbody>\n",
       "</table>\n",
       "</div>"
      ],
      "text/plain": [
       "          new_cases  new_deaths    total_cases  total_deaths\n",
       "count   2707.000000  540.000000    2867.000000    587.000000\n",
       "mean     131.927595   27.262963    2517.981863    404.933560\n",
       "std      833.146654   78.823547   13805.255915   1020.459099\n",
       "min      -10.000000    0.000000       1.000000      1.000000\n",
       "25%        0.000000    0.000000       2.000000      1.000000\n",
       "50%        0.000000    1.000000       9.000000      5.000000\n",
       "75%        7.000000   15.000000      48.000000     60.500000\n",
       "max    19572.000000  855.000000  179112.000000   7426.000000"
      ]
     },
     "execution_count": 226,
     "metadata": {},
     "output_type": "execute_result"
    }
   ],
   "source": [
    "cases.describe()"
   ]
  },
  {
   "cell_type": "markdown",
   "metadata": {},
   "source": [
    "The describe function is faulty as rows have real integers that must be interpreted. The drop duplicates function shows\n",
    "that the dataset has no duplicates"
   ]
  },
  {
   "cell_type": "markdown",
   "metadata": {},
   "source": [
    "Drop columns contries that have no cases\n",
    "We group each country and find its totals as a seperate dataset, summary"
   ]
  },
  {
   "cell_type": "code",
   "execution_count": 227,
   "metadata": {},
   "outputs": [
    {
     "data": {
      "text/html": [
       "<div>\n",
       "<style scoped>\n",
       "    .dataframe tbody tr th:only-of-type {\n",
       "        vertical-align: middle;\n",
       "    }\n",
       "\n",
       "    .dataframe tbody tr th {\n",
       "        vertical-align: top;\n",
       "    }\n",
       "\n",
       "    .dataframe thead th {\n",
       "        text-align: right;\n",
       "    }\n",
       "</style>\n",
       "<table border=\"1\" class=\"dataframe\">\n",
       "  <thead>\n",
       "    <tr style=\"text-align: right;\">\n",
       "      <th></th>\n",
       "      <th>date</th>\n",
       "      <th>location</th>\n",
       "      <th>new_cases</th>\n",
       "      <th>new_deaths</th>\n",
       "      <th>total_cases</th>\n",
       "      <th>total_deaths</th>\n",
       "    </tr>\n",
       "  </thead>\n",
       "  <tbody>\n",
       "    <tr>\n",
       "      <th>0</th>\n",
       "      <td>2020-02-25</td>\n",
       "      <td>Afghanistan</td>\n",
       "      <td>NaN</td>\n",
       "      <td>NaN</td>\n",
       "      <td>1</td>\n",
       "      <td>NaN</td>\n",
       "    </tr>\n",
       "    <tr>\n",
       "      <th>1</th>\n",
       "      <td>2020-02-26</td>\n",
       "      <td>Afghanistan</td>\n",
       "      <td>0.0</td>\n",
       "      <td>NaN</td>\n",
       "      <td>1</td>\n",
       "      <td>NaN</td>\n",
       "    </tr>\n",
       "    <tr>\n",
       "      <th>2</th>\n",
       "      <td>2020-02-27</td>\n",
       "      <td>Afghanistan</td>\n",
       "      <td>0.0</td>\n",
       "      <td>NaN</td>\n",
       "      <td>1</td>\n",
       "      <td>NaN</td>\n",
       "    </tr>\n",
       "    <tr>\n",
       "      <th>3</th>\n",
       "      <td>2020-02-28</td>\n",
       "      <td>Afghanistan</td>\n",
       "      <td>0.0</td>\n",
       "      <td>NaN</td>\n",
       "      <td>1</td>\n",
       "      <td>NaN</td>\n",
       "    </tr>\n",
       "    <tr>\n",
       "      <th>4</th>\n",
       "      <td>2020-02-29</td>\n",
       "      <td>Afghanistan</td>\n",
       "      <td>0.0</td>\n",
       "      <td>NaN</td>\n",
       "      <td>1</td>\n",
       "      <td>NaN</td>\n",
       "    </tr>\n",
       "    <tr>\n",
       "      <th>...</th>\n",
       "      <td>...</td>\n",
       "      <td>...</td>\n",
       "      <td>...</td>\n",
       "      <td>...</td>\n",
       "      <td>...</td>\n",
       "      <td>...</td>\n",
       "    </tr>\n",
       "    <tr>\n",
       "      <th>2862</th>\n",
       "      <td>2020-03-13</td>\n",
       "      <td>World</td>\n",
       "      <td>7488.0</td>\n",
       "      <td>338.0</td>\n",
       "      <td>132758</td>\n",
       "      <td>4956.0</td>\n",
       "    </tr>\n",
       "    <tr>\n",
       "      <th>2863</th>\n",
       "      <td>2020-03-14</td>\n",
       "      <td>World</td>\n",
       "      <td>9761.0</td>\n",
       "      <td>433.0</td>\n",
       "      <td>142534</td>\n",
       "      <td>5392.0</td>\n",
       "    </tr>\n",
       "    <tr>\n",
       "      <th>2864</th>\n",
       "      <td>2020-03-15</td>\n",
       "      <td>World</td>\n",
       "      <td>10967.0</td>\n",
       "      <td>343.0</td>\n",
       "      <td>153517</td>\n",
       "      <td>5735.0</td>\n",
       "    </tr>\n",
       "    <tr>\n",
       "      <th>2865</th>\n",
       "      <td>2020-03-16</td>\n",
       "      <td>World</td>\n",
       "      <td>13971.0</td>\n",
       "      <td>855.0</td>\n",
       "      <td>167506</td>\n",
       "      <td>6606.0</td>\n",
       "    </tr>\n",
       "    <tr>\n",
       "      <th>2866</th>\n",
       "      <td>2020-03-17</td>\n",
       "      <td>World</td>\n",
       "      <td>11594.0</td>\n",
       "      <td>819.0</td>\n",
       "      <td>179112</td>\n",
       "      <td>7426.0</td>\n",
       "    </tr>\n",
       "  </tbody>\n",
       "</table>\n",
       "<p>2867 rows × 6 columns</p>\n",
       "</div>"
      ],
      "text/plain": [
       "           date     location  new_cases  new_deaths  total_cases  total_deaths\n",
       "0    2020-02-25  Afghanistan        NaN         NaN            1           NaN\n",
       "1    2020-02-26  Afghanistan        0.0         NaN            1           NaN\n",
       "2    2020-02-27  Afghanistan        0.0         NaN            1           NaN\n",
       "3    2020-02-28  Afghanistan        0.0         NaN            1           NaN\n",
       "4    2020-02-29  Afghanistan        0.0         NaN            1           NaN\n",
       "...         ...          ...        ...         ...          ...           ...\n",
       "2862 2020-03-13        World     7488.0       338.0       132758        4956.0\n",
       "2863 2020-03-14        World     9761.0       433.0       142534        5392.0\n",
       "2864 2020-03-15        World    10967.0       343.0       153517        5735.0\n",
       "2865 2020-03-16        World    13971.0       855.0       167506        6606.0\n",
       "2866 2020-03-17        World    11594.0       819.0       179112        7426.0\n",
       "\n",
       "[2867 rows x 6 columns]"
      ]
     },
     "execution_count": 227,
     "metadata": {},
     "output_type": "execute_result"
    }
   ],
   "source": [
    "cases.drop_duplicates()"
   ]
  },
  {
   "cell_type": "code",
   "execution_count": 228,
   "metadata": {},
   "outputs": [
    {
     "data": {
      "text/html": [
       "<div>\n",
       "<style scoped>\n",
       "    .dataframe tbody tr th:only-of-type {\n",
       "        vertical-align: middle;\n",
       "    }\n",
       "\n",
       "    .dataframe tbody tr th {\n",
       "        vertical-align: top;\n",
       "    }\n",
       "\n",
       "    .dataframe thead th {\n",
       "        text-align: right;\n",
       "    }\n",
       "</style>\n",
       "<table border=\"1\" class=\"dataframe\">\n",
       "  <thead>\n",
       "    <tr style=\"text-align: right;\">\n",
       "      <th></th>\n",
       "      <th>date</th>\n",
       "      <th>location</th>\n",
       "      <th>new_cases</th>\n",
       "      <th>new_deaths</th>\n",
       "      <th>total_cases</th>\n",
       "      <th>total_deaths</th>\n",
       "    </tr>\n",
       "  </thead>\n",
       "  <tbody>\n",
       "    <tr>\n",
       "      <th>0</th>\n",
       "      <td>2020-02-25</td>\n",
       "      <td>Afghanistan</td>\n",
       "      <td>NaN</td>\n",
       "      <td>NaN</td>\n",
       "      <td>1</td>\n",
       "      <td>NaN</td>\n",
       "    </tr>\n",
       "    <tr>\n",
       "      <th>1</th>\n",
       "      <td>2020-02-26</td>\n",
       "      <td>Afghanistan</td>\n",
       "      <td>0.0</td>\n",
       "      <td>NaN</td>\n",
       "      <td>1</td>\n",
       "      <td>NaN</td>\n",
       "    </tr>\n",
       "    <tr>\n",
       "      <th>2</th>\n",
       "      <td>2020-02-27</td>\n",
       "      <td>Afghanistan</td>\n",
       "      <td>0.0</td>\n",
       "      <td>NaN</td>\n",
       "      <td>1</td>\n",
       "      <td>NaN</td>\n",
       "    </tr>\n",
       "    <tr>\n",
       "      <th>3</th>\n",
       "      <td>2020-02-28</td>\n",
       "      <td>Afghanistan</td>\n",
       "      <td>0.0</td>\n",
       "      <td>NaN</td>\n",
       "      <td>1</td>\n",
       "      <td>NaN</td>\n",
       "    </tr>\n",
       "    <tr>\n",
       "      <th>4</th>\n",
       "      <td>2020-02-29</td>\n",
       "      <td>Afghanistan</td>\n",
       "      <td>0.0</td>\n",
       "      <td>NaN</td>\n",
       "      <td>1</td>\n",
       "      <td>NaN</td>\n",
       "    </tr>\n",
       "    <tr>\n",
       "      <th>...</th>\n",
       "      <td>...</td>\n",
       "      <td>...</td>\n",
       "      <td>...</td>\n",
       "      <td>...</td>\n",
       "      <td>...</td>\n",
       "      <td>...</td>\n",
       "    </tr>\n",
       "    <tr>\n",
       "      <th>2862</th>\n",
       "      <td>2020-03-13</td>\n",
       "      <td>World</td>\n",
       "      <td>7488.0</td>\n",
       "      <td>338.0</td>\n",
       "      <td>132758</td>\n",
       "      <td>4956.0</td>\n",
       "    </tr>\n",
       "    <tr>\n",
       "      <th>2863</th>\n",
       "      <td>2020-03-14</td>\n",
       "      <td>World</td>\n",
       "      <td>9761.0</td>\n",
       "      <td>433.0</td>\n",
       "      <td>142534</td>\n",
       "      <td>5392.0</td>\n",
       "    </tr>\n",
       "    <tr>\n",
       "      <th>2864</th>\n",
       "      <td>2020-03-15</td>\n",
       "      <td>World</td>\n",
       "      <td>10967.0</td>\n",
       "      <td>343.0</td>\n",
       "      <td>153517</td>\n",
       "      <td>5735.0</td>\n",
       "    </tr>\n",
       "    <tr>\n",
       "      <th>2865</th>\n",
       "      <td>2020-03-16</td>\n",
       "      <td>World</td>\n",
       "      <td>13971.0</td>\n",
       "      <td>855.0</td>\n",
       "      <td>167506</td>\n",
       "      <td>6606.0</td>\n",
       "    </tr>\n",
       "    <tr>\n",
       "      <th>2866</th>\n",
       "      <td>2020-03-17</td>\n",
       "      <td>World</td>\n",
       "      <td>11594.0</td>\n",
       "      <td>819.0</td>\n",
       "      <td>179112</td>\n",
       "      <td>7426.0</td>\n",
       "    </tr>\n",
       "  </tbody>\n",
       "</table>\n",
       "<p>2867 rows × 6 columns</p>\n",
       "</div>"
      ],
      "text/plain": [
       "           date     location  new_cases  new_deaths  total_cases  total_deaths\n",
       "0    2020-02-25  Afghanistan        NaN         NaN            1           NaN\n",
       "1    2020-02-26  Afghanistan        0.0         NaN            1           NaN\n",
       "2    2020-02-27  Afghanistan        0.0         NaN            1           NaN\n",
       "3    2020-02-28  Afghanistan        0.0         NaN            1           NaN\n",
       "4    2020-02-29  Afghanistan        0.0         NaN            1           NaN\n",
       "...         ...          ...        ...         ...          ...           ...\n",
       "2862 2020-03-13        World     7488.0       338.0       132758        4956.0\n",
       "2863 2020-03-14        World     9761.0       433.0       142534        5392.0\n",
       "2864 2020-03-15        World    10967.0       343.0       153517        5735.0\n",
       "2865 2020-03-16        World    13971.0       855.0       167506        6606.0\n",
       "2866 2020-03-17        World    11594.0       819.0       179112        7426.0\n",
       "\n",
       "[2867 rows x 6 columns]"
      ]
     },
     "execution_count": 228,
     "metadata": {},
     "output_type": "execute_result"
    }
   ],
   "source": [
    "cases.dropna(how='all')"
   ]
  },
  {
   "cell_type": "markdown",
   "metadata": {},
   "source": [
    "### Clustering of neighbourhoods\n",
    "Now we group the data by country to find the totals for each country"
   ]
  },
  {
   "cell_type": "code",
   "execution_count": 229,
   "metadata": {},
   "outputs": [
    {
     "data": {
      "text/html": [
       "<div>\n",
       "<style scoped>\n",
       "    .dataframe tbody tr th:only-of-type {\n",
       "        vertical-align: middle;\n",
       "    }\n",
       "\n",
       "    .dataframe tbody tr th {\n",
       "        vertical-align: top;\n",
       "    }\n",
       "\n",
       "    .dataframe thead th {\n",
       "        text-align: right;\n",
       "    }\n",
       "</style>\n",
       "<table border=\"1\" class=\"dataframe\">\n",
       "  <thead>\n",
       "    <tr style=\"text-align: right;\">\n",
       "      <th></th>\n",
       "      <th>new_cases</th>\n",
       "      <th>new_deaths</th>\n",
       "      <th>total_cases</th>\n",
       "      <th>total_deaths</th>\n",
       "    </tr>\n",
       "    <tr>\n",
       "      <th>location</th>\n",
       "      <th></th>\n",
       "      <th></th>\n",
       "      <th></th>\n",
       "      <th></th>\n",
       "    </tr>\n",
       "  </thead>\n",
       "  <tbody>\n",
       "    <tr>\n",
       "      <th>Afghanistan</th>\n",
       "      <td>20.0</td>\n",
       "      <td>0.0</td>\n",
       "      <td>96</td>\n",
       "      <td>0.0</td>\n",
       "    </tr>\n",
       "    <tr>\n",
       "      <th>Albania</th>\n",
       "      <td>49.0</td>\n",
       "      <td>0.0</td>\n",
       "      <td>211</td>\n",
       "      <td>4.0</td>\n",
       "    </tr>\n",
       "    <tr>\n",
       "      <th>Algeria</th>\n",
       "      <td>59.0</td>\n",
       "      <td>3.0</td>\n",
       "      <td>356</td>\n",
       "      <td>14.0</td>\n",
       "    </tr>\n",
       "    <tr>\n",
       "      <th>Andorra</th>\n",
       "      <td>13.0</td>\n",
       "      <td>0.0</td>\n",
       "      <td>31</td>\n",
       "      <td>0.0</td>\n",
       "    </tr>\n",
       "    <tr>\n",
       "      <th>Antigua and Barbuda</th>\n",
       "      <td>0.0</td>\n",
       "      <td>0.0</td>\n",
       "      <td>4</td>\n",
       "      <td>0.0</td>\n",
       "    </tr>\n",
       "  </tbody>\n",
       "</table>\n",
       "</div>"
      ],
      "text/plain": [
       "                     new_cases  new_deaths  total_cases  total_deaths\n",
       "location                                                             \n",
       "Afghanistan               20.0         0.0           96           0.0\n",
       "Albania                   49.0         0.0          211           4.0\n",
       "Algeria                   59.0         3.0          356          14.0\n",
       "Andorra                   13.0         0.0           31           0.0\n",
       "Antigua and Barbuda        0.0         0.0            4           0.0"
      ]
     },
     "execution_count": 229,
     "metadata": {},
     "output_type": "execute_result"
    }
   ],
   "source": [
    "#find summary of cases for each country\n",
    "locations=cases.groupby(['location']).sum()\n",
    "locations.head()"
   ]
  },
  {
   "cell_type": "code",
   "execution_count": 230,
   "metadata": {},
   "outputs": [
    {
     "data": {
      "text/html": [
       "<div>\n",
       "<style scoped>\n",
       "    .dataframe tbody tr th:only-of-type {\n",
       "        vertical-align: middle;\n",
       "    }\n",
       "\n",
       "    .dataframe tbody tr th {\n",
       "        vertical-align: top;\n",
       "    }\n",
       "\n",
       "    .dataframe thead th {\n",
       "        text-align: right;\n",
       "    }\n",
       "</style>\n",
       "<table border=\"1\" class=\"dataframe\">\n",
       "  <thead>\n",
       "    <tr style=\"text-align: right;\">\n",
       "      <th></th>\n",
       "      <th>new_cases</th>\n",
       "      <th>new_deaths</th>\n",
       "      <th>total_cases</th>\n",
       "      <th>total_deaths</th>\n",
       "    </tr>\n",
       "    <tr>\n",
       "      <th>location</th>\n",
       "      <th></th>\n",
       "      <th></th>\n",
       "      <th></th>\n",
       "      <th></th>\n",
       "    </tr>\n",
       "  </thead>\n",
       "  <tbody>\n",
       "    <tr>\n",
       "      <th>China</th>\n",
       "      <td>80838.0</td>\n",
       "      <td>3225.0</td>\n",
       "      <td>2943625</td>\n",
       "      <td>98139.0</td>\n",
       "    </tr>\n",
       "    <tr>\n",
       "      <th>India</th>\n",
       "      <td>136.0</td>\n",
       "      <td>2.0</td>\n",
       "      <td>961</td>\n",
       "      <td>10.0</td>\n",
       "    </tr>\n",
       "    <tr>\n",
       "      <th>South Africa</th>\n",
       "      <td>61.0</td>\n",
       "      <td>0.0</td>\n",
       "      <td>219</td>\n",
       "      <td>0.0</td>\n",
       "    </tr>\n",
       "  </tbody>\n",
       "</table>\n",
       "</div>"
      ],
      "text/plain": [
       "              new_cases  new_deaths  total_cases  total_deaths\n",
       "location                                                      \n",
       "China           80838.0      3225.0      2943625       98139.0\n",
       "India             136.0         2.0          961          10.0\n",
       "South Africa       61.0         0.0          219           0.0"
      ]
     },
     "execution_count": 230,
     "metadata": {},
     "output_type": "execute_result"
    }
   ],
   "source": [
    "sum_countries=countries.groupby(['location']).sum()\n",
    "sum_countries.head()"
   ]
  },
  {
   "cell_type": "code",
   "execution_count": null,
   "metadata": {},
   "outputs": [],
   "source": []
  },
  {
   "cell_type": "markdown",
   "metadata": {},
   "source": [
    "### Adding a days column"
   ]
  },
  {
   "cell_type": "code",
   "execution_count": 231,
   "metadata": {},
   "outputs": [
    {
     "data": {
      "text/plain": [
       "0      35 days\n",
       "1      36 days\n",
       "2      37 days\n",
       "3      38 days\n",
       "4      39 days\n",
       "         ...  \n",
       "2862   52 days\n",
       "2863   53 days\n",
       "2864   54 days\n",
       "2865   55 days\n",
       "2866   56 days\n",
       "Name: date, Length: 2867, dtype: timedelta64[ns]"
      ]
     },
     "execution_count": 231,
     "metadata": {},
     "output_type": "execute_result"
    }
   ],
   "source": [
    "cases['date'] - cases['date'].min()"
   ]
  },
  {
   "cell_type": "code",
   "execution_count": 232,
   "metadata": {},
   "outputs": [],
   "source": [
    "cases['days'] = cases['date'] - cases['date'].min()"
   ]
  },
  {
   "cell_type": "markdown",
   "metadata": {},
   "source": [
    "### Picking only countries of interest"
   ]
  },
  {
   "cell_type": "code",
   "execution_count": 233,
   "metadata": {},
   "outputs": [
    {
     "data": {
      "text/html": [
       "<div>\n",
       "<style scoped>\n",
       "    .dataframe tbody tr th:only-of-type {\n",
       "        vertical-align: middle;\n",
       "    }\n",
       "\n",
       "    .dataframe tbody tr th {\n",
       "        vertical-align: top;\n",
       "    }\n",
       "\n",
       "    .dataframe thead th {\n",
       "        text-align: right;\n",
       "    }\n",
       "</style>\n",
       "<table border=\"1\" class=\"dataframe\">\n",
       "  <thead>\n",
       "    <tr style=\"text-align: right;\">\n",
       "      <th></th>\n",
       "      <th>date</th>\n",
       "      <th>location</th>\n",
       "      <th>new_cases</th>\n",
       "      <th>new_deaths</th>\n",
       "      <th>total_cases</th>\n",
       "      <th>total_deaths</th>\n",
       "      <th>days</th>\n",
       "    </tr>\n",
       "  </thead>\n",
       "  <tbody>\n",
       "    <tr>\n",
       "      <th>1173</th>\n",
       "      <td>2020-02-20</td>\n",
       "      <td>Iran</td>\n",
       "      <td>NaN</td>\n",
       "      <td>NaN</td>\n",
       "      <td>2</td>\n",
       "      <td>2.0</td>\n",
       "      <td>30 days</td>\n",
       "    </tr>\n",
       "    <tr>\n",
       "      <th>1174</th>\n",
       "      <td>2020-02-21</td>\n",
       "      <td>Iran</td>\n",
       "      <td>3.0</td>\n",
       "      <td>0.0</td>\n",
       "      <td>5</td>\n",
       "      <td>2.0</td>\n",
       "      <td>31 days</td>\n",
       "    </tr>\n",
       "    <tr>\n",
       "      <th>1175</th>\n",
       "      <td>2020-02-22</td>\n",
       "      <td>Iran</td>\n",
       "      <td>13.0</td>\n",
       "      <td>2.0</td>\n",
       "      <td>18</td>\n",
       "      <td>4.0</td>\n",
       "      <td>32 days</td>\n",
       "    </tr>\n",
       "    <tr>\n",
       "      <th>1176</th>\n",
       "      <td>2020-02-23</td>\n",
       "      <td>Iran</td>\n",
       "      <td>10.0</td>\n",
       "      <td>1.0</td>\n",
       "      <td>28</td>\n",
       "      <td>5.0</td>\n",
       "      <td>33 days</td>\n",
       "    </tr>\n",
       "    <tr>\n",
       "      <th>1177</th>\n",
       "      <td>2020-02-24</td>\n",
       "      <td>Iran</td>\n",
       "      <td>15.0</td>\n",
       "      <td>3.0</td>\n",
       "      <td>43</td>\n",
       "      <td>8.0</td>\n",
       "      <td>34 days</td>\n",
       "    </tr>\n",
       "    <tr>\n",
       "      <th>...</th>\n",
       "      <td>...</td>\n",
       "      <td>...</td>\n",
       "      <td>...</td>\n",
       "      <td>...</td>\n",
       "      <td>...</td>\n",
       "      <td>...</td>\n",
       "      <td>...</td>\n",
       "    </tr>\n",
       "    <tr>\n",
       "      <th>2361</th>\n",
       "      <td>2020-03-13</td>\n",
       "      <td>Spain</td>\n",
       "      <td>825.0</td>\n",
       "      <td>36.0</td>\n",
       "      <td>2965</td>\n",
       "      <td>84.0</td>\n",
       "      <td>52 days</td>\n",
       "    </tr>\n",
       "    <tr>\n",
       "      <th>2362</th>\n",
       "      <td>2020-03-14</td>\n",
       "      <td>Spain</td>\n",
       "      <td>1266.0</td>\n",
       "      <td>36.0</td>\n",
       "      <td>4231</td>\n",
       "      <td>120.0</td>\n",
       "      <td>53 days</td>\n",
       "    </tr>\n",
       "    <tr>\n",
       "      <th>2363</th>\n",
       "      <td>2020-03-15</td>\n",
       "      <td>Spain</td>\n",
       "      <td>1522.0</td>\n",
       "      <td>16.0</td>\n",
       "      <td>5753</td>\n",
       "      <td>136.0</td>\n",
       "      <td>54 days</td>\n",
       "    </tr>\n",
       "    <tr>\n",
       "      <th>2364</th>\n",
       "      <td>2020-03-16</td>\n",
       "      <td>Spain</td>\n",
       "      <td>2000.0</td>\n",
       "      <td>152.0</td>\n",
       "      <td>7753</td>\n",
       "      <td>288.0</td>\n",
       "      <td>55 days</td>\n",
       "    </tr>\n",
       "    <tr>\n",
       "      <th>2365</th>\n",
       "      <td>2020-03-17</td>\n",
       "      <td>Spain</td>\n",
       "      <td>1438.0</td>\n",
       "      <td>21.0</td>\n",
       "      <td>9191</td>\n",
       "      <td>309.0</td>\n",
       "      <td>56 days</td>\n",
       "    </tr>\n",
       "  </tbody>\n",
       "</table>\n",
       "<p>120 rows × 7 columns</p>\n",
       "</div>"
      ],
      "text/plain": [
       "           date location  new_cases  new_deaths  total_cases  total_deaths  \\\n",
       "1173 2020-02-20     Iran        NaN         NaN            2           2.0   \n",
       "1174 2020-02-21     Iran        3.0         0.0            5           2.0   \n",
       "1175 2020-02-22     Iran       13.0         2.0           18           4.0   \n",
       "1176 2020-02-23     Iran       10.0         1.0           28           5.0   \n",
       "1177 2020-02-24     Iran       15.0         3.0           43           8.0   \n",
       "...         ...      ...        ...         ...          ...           ...   \n",
       "2361 2020-03-13    Spain      825.0        36.0         2965          84.0   \n",
       "2362 2020-03-14    Spain     1266.0        36.0         4231         120.0   \n",
       "2363 2020-03-15    Spain     1522.0        16.0         5753         136.0   \n",
       "2364 2020-03-16    Spain     2000.0       152.0         7753         288.0   \n",
       "2365 2020-03-17    Spain     1438.0        21.0         9191         309.0   \n",
       "\n",
       "        days  \n",
       "1173 30 days  \n",
       "1174 31 days  \n",
       "1175 32 days  \n",
       "1176 33 days  \n",
       "1177 34 days  \n",
       "...      ...  \n",
       "2361 52 days  \n",
       "2362 53 days  \n",
       "2363 54 days  \n",
       "2364 55 days  \n",
       "2365 56 days  \n",
       "\n",
       "[120 rows x 7 columns]"
      ]
     },
     "execution_count": 233,
     "metadata": {},
     "output_type": "execute_result"
    }
   ],
   "source": [
    "cased = cases[cases['location'].isin(['Spain', 'Iran','Italy'])]\n",
    "cased"
   ]
  },
  {
   "cell_type": "markdown",
   "metadata": {},
   "source": [
    "### Group cased by date(months or weeks)\n"
   ]
  },
  {
   "cell_type": "code",
   "execution_count": 234,
   "metadata": {},
   "outputs": [
    {
     "data": {
      "text/html": [
       "<div>\n",
       "<style scoped>\n",
       "    .dataframe tbody tr th:only-of-type {\n",
       "        vertical-align: middle;\n",
       "    }\n",
       "\n",
       "    .dataframe tbody tr th {\n",
       "        vertical-align: top;\n",
       "    }\n",
       "\n",
       "    .dataframe thead th {\n",
       "        text-align: right;\n",
       "    }\n",
       "</style>\n",
       "<table border=\"1\" class=\"dataframe\">\n",
       "  <thead>\n",
       "    <tr style=\"text-align: right;\">\n",
       "      <th></th>\n",
       "      <th>new_cases</th>\n",
       "      <th>new_deaths</th>\n",
       "      <th>total_cases</th>\n",
       "      <th>total_deaths</th>\n",
       "    </tr>\n",
       "    <tr>\n",
       "      <th>location</th>\n",
       "      <th></th>\n",
       "      <th></th>\n",
       "      <th></th>\n",
       "      <th></th>\n",
       "    </tr>\n",
       "  </thead>\n",
       "  <tbody>\n",
       "    <tr>\n",
       "      <th>Iran</th>\n",
       "      <td>14989.0</td>\n",
       "      <td>851.0</td>\n",
       "      <td>118358</td>\n",
       "      <td>5171.0</td>\n",
       "    </tr>\n",
       "    <tr>\n",
       "      <th>Italy</th>\n",
       "      <td>27978.0</td>\n",
       "      <td>2501.0</td>\n",
       "      <td>173393</td>\n",
       "      <td>11277.0</td>\n",
       "    </tr>\n",
       "    <tr>\n",
       "      <th>Spain</th>\n",
       "      <td>9190.0</td>\n",
       "      <td>308.0</td>\n",
       "      <td>37011</td>\n",
       "      <td>1073.0</td>\n",
       "    </tr>\n",
       "  </tbody>\n",
       "</table>\n",
       "</div>"
      ],
      "text/plain": [
       "          new_cases  new_deaths  total_cases  total_deaths\n",
       "location                                                  \n",
       "Iran        14989.0       851.0       118358        5171.0\n",
       "Italy       27978.0      2501.0       173393       11277.0\n",
       "Spain        9190.0       308.0        37011        1073.0"
      ]
     },
     "execution_count": 234,
     "metadata": {},
     "output_type": "execute_result"
    }
   ],
   "source": [
    "_countries = cased.groupby(['location']).sum()\n",
    "_countries.head()\n",
    "#cased.index = cased['date'] \n",
    "\n",
    "#cased.resample('M').sum()\n"
   ]
  },
  {
   "cell_type": "code",
   "execution_count": null,
   "metadata": {},
   "outputs": [],
   "source": []
  },
  {
   "cell_type": "markdown",
   "metadata": {},
   "source": [
    "## Getting the total cases per country"
   ]
  },
  {
   "cell_type": "code",
   "execution_count": 235,
   "metadata": {
    "scrolled": true
   },
   "outputs": [],
   "source": [
    "df_total_cases_all_countries =  cased[['location', 'days', 'total_cases']].groupby(['location', 'days']).sum().unstack('location')['total_cases']\n"
   ]
  },
  {
   "cell_type": "code",
   "execution_count": 236,
   "metadata": {},
   "outputs": [
    {
     "data": {
      "text/html": [
       "<div>\n",
       "<style scoped>\n",
       "    .dataframe tbody tr th:only-of-type {\n",
       "        vertical-align: middle;\n",
       "    }\n",
       "\n",
       "    .dataframe tbody tr th {\n",
       "        vertical-align: top;\n",
       "    }\n",
       "\n",
       "    .dataframe thead th {\n",
       "        text-align: right;\n",
       "    }\n",
       "</style>\n",
       "<table border=\"1\" class=\"dataframe\">\n",
       "  <thead>\n",
       "    <tr style=\"text-align: right;\">\n",
       "      <th>location</th>\n",
       "      <th>Iran</th>\n",
       "      <th>Italy</th>\n",
       "      <th>Spain</th>\n",
       "    </tr>\n",
       "    <tr>\n",
       "      <th>days</th>\n",
       "      <th></th>\n",
       "      <th></th>\n",
       "      <th></th>\n",
       "    </tr>\n",
       "  </thead>\n",
       "  <tbody>\n",
       "    <tr>\n",
       "      <th>10 days</th>\n",
       "      <td>NaN</td>\n",
       "      <td>2.0</td>\n",
       "      <td>NaN</td>\n",
       "    </tr>\n",
       "    <tr>\n",
       "      <th>11 days</th>\n",
       "      <td>NaN</td>\n",
       "      <td>2.0</td>\n",
       "      <td>1.0</td>\n",
       "    </tr>\n",
       "    <tr>\n",
       "      <th>12 days</th>\n",
       "      <td>NaN</td>\n",
       "      <td>2.0</td>\n",
       "      <td>1.0</td>\n",
       "    </tr>\n",
       "    <tr>\n",
       "      <th>13 days</th>\n",
       "      <td>NaN</td>\n",
       "      <td>2.0</td>\n",
       "      <td>1.0</td>\n",
       "    </tr>\n",
       "    <tr>\n",
       "      <th>14 days</th>\n",
       "      <td>NaN</td>\n",
       "      <td>2.0</td>\n",
       "      <td>1.0</td>\n",
       "    </tr>\n",
       "    <tr>\n",
       "      <th>15 days</th>\n",
       "      <td>NaN</td>\n",
       "      <td>2.0</td>\n",
       "      <td>1.0</td>\n",
       "    </tr>\n",
       "    <tr>\n",
       "      <th>16 days</th>\n",
       "      <td>NaN</td>\n",
       "      <td>2.0</td>\n",
       "      <td>1.0</td>\n",
       "    </tr>\n",
       "    <tr>\n",
       "      <th>17 days</th>\n",
       "      <td>NaN</td>\n",
       "      <td>3.0</td>\n",
       "      <td>1.0</td>\n",
       "    </tr>\n",
       "    <tr>\n",
       "      <th>18 days</th>\n",
       "      <td>NaN</td>\n",
       "      <td>3.0</td>\n",
       "      <td>1.0</td>\n",
       "    </tr>\n",
       "    <tr>\n",
       "      <th>19 days</th>\n",
       "      <td>NaN</td>\n",
       "      <td>3.0</td>\n",
       "      <td>1.0</td>\n",
       "    </tr>\n",
       "    <tr>\n",
       "      <th>20 days</th>\n",
       "      <td>NaN</td>\n",
       "      <td>3.0</td>\n",
       "      <td>2.0</td>\n",
       "    </tr>\n",
       "    <tr>\n",
       "      <th>21 days</th>\n",
       "      <td>NaN</td>\n",
       "      <td>3.0</td>\n",
       "      <td>2.0</td>\n",
       "    </tr>\n",
       "    <tr>\n",
       "      <th>22 days</th>\n",
       "      <td>NaN</td>\n",
       "      <td>3.0</td>\n",
       "      <td>2.0</td>\n",
       "    </tr>\n",
       "    <tr>\n",
       "      <th>23 days</th>\n",
       "      <td>NaN</td>\n",
       "      <td>3.0</td>\n",
       "      <td>2.0</td>\n",
       "    </tr>\n",
       "    <tr>\n",
       "      <th>24 days</th>\n",
       "      <td>NaN</td>\n",
       "      <td>3.0</td>\n",
       "      <td>2.0</td>\n",
       "    </tr>\n",
       "    <tr>\n",
       "      <th>25 days</th>\n",
       "      <td>NaN</td>\n",
       "      <td>3.0</td>\n",
       "      <td>2.0</td>\n",
       "    </tr>\n",
       "    <tr>\n",
       "      <th>26 days</th>\n",
       "      <td>NaN</td>\n",
       "      <td>3.0</td>\n",
       "      <td>2.0</td>\n",
       "    </tr>\n",
       "    <tr>\n",
       "      <th>27 days</th>\n",
       "      <td>NaN</td>\n",
       "      <td>3.0</td>\n",
       "      <td>2.0</td>\n",
       "    </tr>\n",
       "    <tr>\n",
       "      <th>28 days</th>\n",
       "      <td>NaN</td>\n",
       "      <td>3.0</td>\n",
       "      <td>2.0</td>\n",
       "    </tr>\n",
       "    <tr>\n",
       "      <th>29 days</th>\n",
       "      <td>NaN</td>\n",
       "      <td>3.0</td>\n",
       "      <td>2.0</td>\n",
       "    </tr>\n",
       "    <tr>\n",
       "      <th>30 days</th>\n",
       "      <td>2.0</td>\n",
       "      <td>3.0</td>\n",
       "      <td>2.0</td>\n",
       "    </tr>\n",
       "    <tr>\n",
       "      <th>31 days</th>\n",
       "      <td>5.0</td>\n",
       "      <td>3.0</td>\n",
       "      <td>2.0</td>\n",
       "    </tr>\n",
       "    <tr>\n",
       "      <th>32 days</th>\n",
       "      <td>18.0</td>\n",
       "      <td>9.0</td>\n",
       "      <td>2.0</td>\n",
       "    </tr>\n",
       "    <tr>\n",
       "      <th>33 days</th>\n",
       "      <td>28.0</td>\n",
       "      <td>76.0</td>\n",
       "      <td>2.0</td>\n",
       "    </tr>\n",
       "    <tr>\n",
       "      <th>34 days</th>\n",
       "      <td>43.0</td>\n",
       "      <td>124.0</td>\n",
       "      <td>2.0</td>\n",
       "    </tr>\n",
       "    <tr>\n",
       "      <th>35 days</th>\n",
       "      <td>61.0</td>\n",
       "      <td>229.0</td>\n",
       "      <td>2.0</td>\n",
       "    </tr>\n",
       "    <tr>\n",
       "      <th>36 days</th>\n",
       "      <td>95.0</td>\n",
       "      <td>322.0</td>\n",
       "      <td>2.0</td>\n",
       "    </tr>\n",
       "    <tr>\n",
       "      <th>37 days</th>\n",
       "      <td>141.0</td>\n",
       "      <td>400.0</td>\n",
       "      <td>12.0</td>\n",
       "    </tr>\n",
       "    <tr>\n",
       "      <th>38 days</th>\n",
       "      <td>245.0</td>\n",
       "      <td>650.0</td>\n",
       "      <td>25.0</td>\n",
       "    </tr>\n",
       "    <tr>\n",
       "      <th>39 days</th>\n",
       "      <td>388.0</td>\n",
       "      <td>888.0</td>\n",
       "      <td>32.0</td>\n",
       "    </tr>\n",
       "    <tr>\n",
       "      <th>40 days</th>\n",
       "      <td>593.0</td>\n",
       "      <td>1128.0</td>\n",
       "      <td>45.0</td>\n",
       "    </tr>\n",
       "    <tr>\n",
       "      <th>41 days</th>\n",
       "      <td>978.0</td>\n",
       "      <td>1689.0</td>\n",
       "      <td>45.0</td>\n",
       "    </tr>\n",
       "    <tr>\n",
       "      <th>42 days</th>\n",
       "      <td>1501.0</td>\n",
       "      <td>2036.0</td>\n",
       "      <td>114.0</td>\n",
       "    </tr>\n",
       "    <tr>\n",
       "      <th>43 days</th>\n",
       "      <td>2336.0</td>\n",
       "      <td>2502.0</td>\n",
       "      <td>151.0</td>\n",
       "    </tr>\n",
       "    <tr>\n",
       "      <th>44 days</th>\n",
       "      <td>2922.0</td>\n",
       "      <td>3089.0</td>\n",
       "      <td>198.0</td>\n",
       "    </tr>\n",
       "    <tr>\n",
       "      <th>45 days</th>\n",
       "      <td>3513.0</td>\n",
       "      <td>3858.0</td>\n",
       "      <td>257.0</td>\n",
       "    </tr>\n",
       "    <tr>\n",
       "      <th>46 days</th>\n",
       "      <td>4747.0</td>\n",
       "      <td>4636.0</td>\n",
       "      <td>374.0</td>\n",
       "    </tr>\n",
       "    <tr>\n",
       "      <th>47 days</th>\n",
       "      <td>5823.0</td>\n",
       "      <td>5883.0</td>\n",
       "      <td>430.0</td>\n",
       "    </tr>\n",
       "    <tr>\n",
       "      <th>48 days</th>\n",
       "      <td>6566.0</td>\n",
       "      <td>7375.0</td>\n",
       "      <td>589.0</td>\n",
       "    </tr>\n",
       "    <tr>\n",
       "      <th>49 days</th>\n",
       "      <td>7161.0</td>\n",
       "      <td>9172.0</td>\n",
       "      <td>1024.0</td>\n",
       "    </tr>\n",
       "    <tr>\n",
       "      <th>50 days</th>\n",
       "      <td>8042.0</td>\n",
       "      <td>10149.0</td>\n",
       "      <td>1639.0</td>\n",
       "    </tr>\n",
       "    <tr>\n",
       "      <th>51 days</th>\n",
       "      <td>9000.0</td>\n",
       "      <td>12462.0</td>\n",
       "      <td>2140.0</td>\n",
       "    </tr>\n",
       "    <tr>\n",
       "      <th>52 days</th>\n",
       "      <td>10075.0</td>\n",
       "      <td>15113.0</td>\n",
       "      <td>2965.0</td>\n",
       "    </tr>\n",
       "    <tr>\n",
       "      <th>53 days</th>\n",
       "      <td>11364.0</td>\n",
       "      <td>17660.0</td>\n",
       "      <td>4231.0</td>\n",
       "    </tr>\n",
       "    <tr>\n",
       "      <th>54 days</th>\n",
       "      <td>12729.0</td>\n",
       "      <td>21157.0</td>\n",
       "      <td>5753.0</td>\n",
       "    </tr>\n",
       "    <tr>\n",
       "      <th>55 days</th>\n",
       "      <td>14991.0</td>\n",
       "      <td>24747.0</td>\n",
       "      <td>7753.0</td>\n",
       "    </tr>\n",
       "    <tr>\n",
       "      <th>56 days</th>\n",
       "      <td>14991.0</td>\n",
       "      <td>27980.0</td>\n",
       "      <td>9191.0</td>\n",
       "    </tr>\n",
       "  </tbody>\n",
       "</table>\n",
       "</div>"
      ],
      "text/plain": [
       "location     Iran    Italy   Spain\n",
       "days                              \n",
       "10 days       NaN      2.0     NaN\n",
       "11 days       NaN      2.0     1.0\n",
       "12 days       NaN      2.0     1.0\n",
       "13 days       NaN      2.0     1.0\n",
       "14 days       NaN      2.0     1.0\n",
       "15 days       NaN      2.0     1.0\n",
       "16 days       NaN      2.0     1.0\n",
       "17 days       NaN      3.0     1.0\n",
       "18 days       NaN      3.0     1.0\n",
       "19 days       NaN      3.0     1.0\n",
       "20 days       NaN      3.0     2.0\n",
       "21 days       NaN      3.0     2.0\n",
       "22 days       NaN      3.0     2.0\n",
       "23 days       NaN      3.0     2.0\n",
       "24 days       NaN      3.0     2.0\n",
       "25 days       NaN      3.0     2.0\n",
       "26 days       NaN      3.0     2.0\n",
       "27 days       NaN      3.0     2.0\n",
       "28 days       NaN      3.0     2.0\n",
       "29 days       NaN      3.0     2.0\n",
       "30 days       2.0      3.0     2.0\n",
       "31 days       5.0      3.0     2.0\n",
       "32 days      18.0      9.0     2.0\n",
       "33 days      28.0     76.0     2.0\n",
       "34 days      43.0    124.0     2.0\n",
       "35 days      61.0    229.0     2.0\n",
       "36 days      95.0    322.0     2.0\n",
       "37 days     141.0    400.0    12.0\n",
       "38 days     245.0    650.0    25.0\n",
       "39 days     388.0    888.0    32.0\n",
       "40 days     593.0   1128.0    45.0\n",
       "41 days     978.0   1689.0    45.0\n",
       "42 days    1501.0   2036.0   114.0\n",
       "43 days    2336.0   2502.0   151.0\n",
       "44 days    2922.0   3089.0   198.0\n",
       "45 days    3513.0   3858.0   257.0\n",
       "46 days    4747.0   4636.0   374.0\n",
       "47 days    5823.0   5883.0   430.0\n",
       "48 days    6566.0   7375.0   589.0\n",
       "49 days    7161.0   9172.0  1024.0\n",
       "50 days    8042.0  10149.0  1639.0\n",
       "51 days    9000.0  12462.0  2140.0\n",
       "52 days   10075.0  15113.0  2965.0\n",
       "53 days   11364.0  17660.0  4231.0\n",
       "54 days   12729.0  21157.0  5753.0\n",
       "55 days   14991.0  24747.0  7753.0\n",
       "56 days   14991.0  27980.0  9191.0"
      ]
     },
     "execution_count": 236,
     "metadata": {},
     "output_type": "execute_result"
    }
   ],
   "source": [
    "df_total_cases_all_countries"
   ]
  },
  {
   "cell_type": "markdown",
   "metadata": {},
   "source": [
    "Plot graphs for each country\n"
   ]
  },
  {
   "cell_type": "markdown",
   "metadata": {
    "scrolled": true
   },
   "source": [
    " ## Plot graph for all country statistics by days"
   ]
  },
  {
   "cell_type": "code",
   "execution_count": 237,
   "metadata": {},
   "outputs": [
    {
     "data": {
      "text/plain": [
       "<matplotlib.axes._subplots.AxesSubplot at 0x21b8baaf808>"
      ]
     },
     "execution_count": 237,
     "metadata": {},
     "output_type": "execute_result"
    },
    {
     "data": {
      "image/png": "[encoded data removed]",
      "text/plain": [
       "<Figure size 432x288 with 1 Axes>"
      ]
     },
     "metadata": {
      "needs_background": "light"
     },
     "output_type": "display_data"
    }
   ],
   "source": [
    "df_total_cases_all_countries.plot()"
   ]
  },
  {
   "cell_type": "markdown",
   "metadata": {},
   "source": [
    " "
   ]
  },
  {
   "cell_type": "code",
   "execution_count": null,
   "metadata": {},
   "outputs": [],
   "source": [
    " "
   ]
  },
  {
   "cell_type": "markdown",
   "metadata": {},
   "source": [
    "## Looking at Spain Data"
   ]
  },
  {
   "cell_type": "code",
   "execution_count": 254,
   "metadata": {},
   "outputs": [],
   "source": [
    "#dfCh = df[df['location'] == 'Spain'][['days', 'total_cases', 'total_deaths']].groupby('days').sum()\n",
    "dfWW = cases[cases['location'] == 'Spain'][['days', 'total_cases', 'total_deaths']].groupby('days').sum()"
   ]
  },
  {
   "cell_type": "code",
   "execution_count": 255,
   "metadata": {},
   "outputs": [
    {
     "data": {
      "text/plain": [
       "<matplotlib.axes._subplots.AxesSubplot at 0x21b8e26cf48>"
      ]
     },
     "execution_count": 255,
     "metadata": {},
     "output_type": "execute_result"
    },
    {
     "data": {
      "image/png": "[encoded data removed]",
      "text/plain": [
       "<Figure size 432x288 with 1 Axes>"
      ]
     },
     "metadata": {
      "needs_background": "light"
     },
     "output_type": "display_data"
    }
   ],
   "source": [
    "dfWW.plot()"
   ]
  },
  {
   "cell_type": "markdown",
   "metadata": {},
   "source": [
    "## Looking at Iran Data"
   ]
  },
  {
   "cell_type": "code",
   "execution_count": 250,
   "metadata": {},
   "outputs": [
    {
     "data": {
      "text/plain": [
       "<matplotlib.axes._subplots.AxesSubplot at 0x21b8dca39c8>"
      ]
     },
     "execution_count": 250,
     "metadata": {},
     "output_type": "execute_result"
    },
    {
     "data": {
      "image/png": "[encoded data removed]",
      "text/plain": [
       "<Figure size 432x288 with 1 Axes>"
      ]
     },
     "metadata": {
      "needs_background": "light"
     },
     "output_type": "display_data"
    }
   ],
   "source": [
    "dfWW = cases[cases['location'] == 'Iran'][['days', 'total_cases', 'total_deaths']].groupby('days').sum()\n",
    "dfWW.plot()"
   ]
  },
  {
   "cell_type": "markdown",
   "metadata": {},
   "source": [
    " ## DATA FOR ITALY"
   ]
  },
  {
   "cell_type": "code",
   "execution_count": 256,
   "metadata": {},
   "outputs": [
    {
     "data": {
      "text/plain": [
       "<matplotlib.axes._subplots.AxesSubplot at 0x21b8e2f3a48>"
      ]
     },
     "execution_count": 256,
     "metadata": {},
     "output_type": "execute_result"
    },
    {
     "data": {
      "image/png": "[encoded data removed]",
      "text/plain": [
       "<Figure size 432x288 with 1 Axes>"
      ]
     },
     "metadata": {
      "needs_background": "light"
     },
     "output_type": "display_data"
    }
   ],
   "source": [
    "#dfCh = df[df['location'] == 'Spain'][['days', 'total_cases', 'total_deaths']].groupby('days').sum()\n",
    "Italy = cases[cases['location'] == 'Italy'][['days', 'total_cases', 'total_deaths']].groupby('days').sum()\n",
    "Italy.plot()"
   ]
  },
  {
   "cell_type": "code",
   "execution_count": 102,
   "metadata": {},
   "outputs": [
    {
     "data": {
      "text/html": [
       "<div>\n",
       "<style scoped>\n",
       "    .dataframe tbody tr th:only-of-type {\n",
       "        vertical-align: middle;\n",
       "    }\n",
       "\n",
       "    .dataframe tbody tr th {\n",
       "        vertical-align: top;\n",
       "    }\n",
       "\n",
       "    .dataframe thead th {\n",
       "        text-align: right;\n",
       "    }\n",
       "</style>\n",
       "<table border=\"1\" class=\"dataframe\">\n",
       "  <thead>\n",
       "    <tr style=\"text-align: right;\">\n",
       "      <th></th>\n",
       "      <th>new_cases</th>\n",
       "      <th>new_deaths</th>\n",
       "      <th>total_cases</th>\n",
       "      <th>total_deaths</th>\n",
       "    </tr>\n",
       "    <tr>\n",
       "      <th>location</th>\n",
       "      <th></th>\n",
       "      <th></th>\n",
       "      <th></th>\n",
       "      <th></th>\n",
       "    </tr>\n",
       "  </thead>\n",
       "  <tbody>\n",
       "    <tr>\n",
       "      <th>Afghanistan</th>\n",
       "      <td>20.0</td>\n",
       "      <td>0.0</td>\n",
       "      <td>96</td>\n",
       "      <td>0.0</td>\n",
       "    </tr>\n",
       "    <tr>\n",
       "      <th>Albania</th>\n",
       "      <td>49.0</td>\n",
       "      <td>0.0</td>\n",
       "      <td>211</td>\n",
       "      <td>4.0</td>\n",
       "    </tr>\n",
       "    <tr>\n",
       "      <th>Algeria</th>\n",
       "      <td>59.0</td>\n",
       "      <td>3.0</td>\n",
       "      <td>356</td>\n",
       "      <td>14.0</td>\n",
       "    </tr>\n",
       "    <tr>\n",
       "      <th>Andorra</th>\n",
       "      <td>13.0</td>\n",
       "      <td>0.0</td>\n",
       "      <td>31</td>\n",
       "      <td>0.0</td>\n",
       "    </tr>\n",
       "    <tr>\n",
       "      <th>Antigua and Barbuda</th>\n",
       "      <td>0.0</td>\n",
       "      <td>0.0</td>\n",
       "      <td>4</td>\n",
       "      <td>0.0</td>\n",
       "    </tr>\n",
       "  </tbody>\n",
       "</table>\n",
       "</div>"
      ],
      "text/plain": [
       "                     new_cases  new_deaths  total_cases  total_deaths\n",
       "location                                                             \n",
       "Afghanistan               20.0         0.0           96           0.0\n",
       "Albania                   49.0         0.0          211           4.0\n",
       "Algeria                   59.0         3.0          356          14.0\n",
       "Andorra                   13.0         0.0           31           0.0\n",
       "Antigua and Barbuda        0.0         0.0            4           0.0"
      ]
     },
     "execution_count": 102,
     "metadata": {},
     "output_type": "execute_result"
    }
   ],
   "source": [
    "heads=location.head(5)\n",
    "#heads= heads[(heads['location'] == \"new_cases\") | (loan['location'] == \"new_deaths\")| (loan['location'] == \"total_cases\")| (loan['location'] == \"total_deaths\")]\n",
    "heads"
   ]
  },
  {
   "cell_type": "code",
   "execution_count": 175,
   "metadata": {},
   "outputs": [
    {
     "data": {
      "text/html": [
       "<div>\n",
       "<style scoped>\n",
       "    .dataframe tbody tr th:only-of-type {\n",
       "        vertical-align: middle;\n",
       "    }\n",
       "\n",
       "    .dataframe tbody tr th {\n",
       "        vertical-align: top;\n",
       "    }\n",
       "\n",
       "    .dataframe thead th {\n",
       "        text-align: right;\n",
       "    }\n",
       "</style>\n",
       "<table border=\"1\" class=\"dataframe\">\n",
       "  <thead>\n",
       "    <tr style=\"text-align: right;\">\n",
       "      <th></th>\n",
       "      <th>new_cases</th>\n",
       "      <th>new_deaths</th>\n",
       "      <th>total_cases</th>\n",
       "      <th>total_deaths</th>\n",
       "    </tr>\n",
       "    <tr>\n",
       "      <th>location</th>\n",
       "      <th></th>\n",
       "      <th></th>\n",
       "      <th></th>\n",
       "      <th></th>\n",
       "    </tr>\n",
       "  </thead>\n",
       "  <tbody>\n",
       "    <tr>\n",
       "      <th>China</th>\n",
       "      <td>80838.0</td>\n",
       "      <td>3225.0</td>\n",
       "      <td>2943625</td>\n",
       "      <td>98139.0</td>\n",
       "    </tr>\n",
       "    <tr>\n",
       "      <th>India</th>\n",
       "      <td>136.0</td>\n",
       "      <td>2.0</td>\n",
       "      <td>961</td>\n",
       "      <td>10.0</td>\n",
       "    </tr>\n",
       "    <tr>\n",
       "      <th>South Africa</th>\n",
       "      <td>61.0</td>\n",
       "      <td>0.0</td>\n",
       "      <td>219</td>\n",
       "      <td>0.0</td>\n",
       "    </tr>\n",
       "  </tbody>\n",
       "</table>\n",
       "</div>"
      ],
      "text/plain": [
       "              new_cases  new_deaths  total_cases  total_deaths\n",
       "location                                                      \n",
       "China           80838.0      3225.0      2943625       98139.0\n",
       "India             136.0         2.0          961          10.0\n",
       "South Africa       61.0         0.0          219           0.0"
      ]
     },
     "execution_count": 175,
     "metadata": {},
     "output_type": "execute_result"
    }
   ],
   "source": [
    "### create a \n",
    "_countries.head()\n",
    "#plt.show()"
   ]
  },
  {
   "cell_type": "code",
   "execution_count": 220,
   "metadata": {},
   "outputs": [
    {
     "data": {
      "image/png": "[encoded data removed]",
      "text/plain": [
       "<Figure size 432x288 with 1 Axes>"
      ]
     },
     "metadata": {
      "needs_background": "light"
     },
     "output_type": "display_data"
    }
   ],
   "source": [
    "new_cases = _countries['new_cases']\n",
    "total_deaths= _countries['total_deaths']\n",
    "total_cases = _countries['total_cases']\n",
    "index =  ['Italy','Iran','Spain']\n",
    "\n",
    "df = pd.DataFrame({'new_cases': new_cases,'total_deaths': total_deaths,\n",
    "                   'total_cases': total_cases}, index=index)\n",
    "ax = df.plot.bar(rot=0)"
   ]
  },
  {
   "cell_type": "code",
   "execution_count": null,
   "metadata": {},
   "outputs": [],
   "source": []
  },
  {
   "cell_type": "code",
   "execution_count": null,
   "metadata": {},
   "outputs": [],
   "source": []
  },
  {
   "cell_type": "code",
   "execution_count": null,
   "metadata": {},
   "outputs": [],
   "source": []
  }
 ],
 "metadata": {
  "kernelspec": {
   "display_name": "Python 3",
   "language": "python",
   "name": "python3"
  },
  "language_info": {
   "codemirror_mode": {
    "name": "ipython",
    "version": 3
   },
   "file_extension": ".py",
   "mimetype": "text/x-python",
   "name": "python",
   "nbconvert_exporter": "python",
   "pygments_lexer": "ipython3",
   "version": "3.7.6"
  },
  "toc": {
   "base_numbering": 1,
   "nav_menu": {},
   "number_sections": true,
   "sideBar": true,
   "skip_h1_title": false,
   "title_cell": "Table of Contents",
   "title_sidebar": "Contents",
   "toc_cell": false,
   "toc_position": {},
   "toc_section_display": true,
   "toc_window_display": false
  }
 },
 "nbformat": 4,
 "nbformat_minor": 2
}
